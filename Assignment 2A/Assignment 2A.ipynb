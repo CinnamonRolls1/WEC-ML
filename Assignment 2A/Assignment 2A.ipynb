{
 "cells": [
  {
   "cell_type": "code",
   "execution_count": 2,
   "metadata": {},
   "outputs": [
    {
     "data": {
      "text/plain": [
       "'Link to the numpy docs: https://docs.scipy.org/doc/numpy-1.13.0/reference/'"
      ]
     },
     "execution_count": 2,
     "metadata": {},
     "output_type": "execute_result"
    }
   ],
   "source": [
    "import numpy as np\n",
    "import scipy\n",
    "\"\"\"Link to the numpy docs: https://docs.scipy.org/doc/numpy-1.13.0/reference/\"\"\""
   ]
  },
  {
   "cell_type": "markdown",
   "metadata": {},
   "source": [
    "Lets solve a few basic numpy problems"
   ]
  },
  {
   "cell_type": "code",
   "execution_count": 10,
   "metadata": {
    "collapsed": true
   },
   "outputs": [],
   "source": [
    "def get_range(start, end, step):\n",
    "    \"\"\"Return an array of given range with specific step\"\"\"\n",
    "    arr = np.arange(start, end, step)\n",
    "    return(arr)\n",
    "\n",
    "\n",
    "#get_range(1,10,2)\n",
    "\n"
   ]
  },
  {
   "cell_type": "code",
   "execution_count": 25,
   "metadata": {},
   "outputs": [
    {
     "name": "stdout",
     "output_type": "stream",
     "text": [
      "new_arr = [[1 2 3]\n",
      " [4 5 6]]\n"
     ]
    }
   ],
   "source": [
    "def new_shape(old_array, new_shape):\n",
    "    \"\"\"Return an array of given shape\"\"\"\n",
    "    #check if array can be reshaped to given dimensions\n",
    "    if old_array.size != (lambda a: a[0]*a[1])(new_shape):\n",
    "        return None\n",
    "    \n",
    "    #define the function to reshape the array & return\n",
    "    return old_array.reshape(new_shape)\n",
    "    \n",
    "#old_arr = np.array([1,2,3,4,5,6])\n",
    "#new_arr = new_shape(old_arr, (2,3))\n",
    "#print(new_arr)"
   ]
  },
  {
   "cell_type": "code",
   "execution_count": 49,
   "metadata": {},
   "outputs": [
    {
     "data": {
      "text/plain": [
       "array([[4, 3, 2, 1],\n",
       "       [8, 7, 6, 5]])"
      ]
     },
     "execution_count": 49,
     "metadata": {},
     "output_type": "execute_result"
    }
   ],
   "source": [
    "def reverse_array(old_array):\n",
    "    \"\"\"Return the reversed array\"\"\"\n",
    "    #initialize array\n",
    "    \n",
    "    #define function to reverse array\n",
    "    \n",
    "    #return the array\n",
    "    return(np.flip(old_array, 1))\n",
    "arr=np.array([[1,2,3,4],[5,6,7,8]])\n",
    "reverse_array(arr)"
   ]
  },
  {
   "cell_type": "code",
   "execution_count": 51,
   "metadata": {
    "collapsed": true
   },
   "outputs": [],
   "source": [
    "def stack_lists(lists):\n",
    "    \"\"\"Return an array containing lists stacked horizontally\"\"\"\n",
    "    #initialize array\n",
    "    \n",
    "    #define function to return array with stacked lists given whether arrays to be stacked horizontally or vertically\n",
    "    \n",
    "    #return the array\n",
    "    return(np.hstack(lists))\n"
   ]
  },
  {
   "cell_type": "code",
   "execution_count": 34,
   "metadata": {},
   "outputs": [
    {
     "data": {
      "text/plain": [
       "array([[ 0.84147098,  0.90929743,  0.14112001, -0.7568025 ,  0.54030231,\n",
       "        -0.41614684, -0.9899925 , -0.65364362,  1.55740772, -2.18503986,\n",
       "        -0.14254654,  1.15782128],\n",
       "       [-0.95892427, -0.2794155 ,  0.6569866 ,  0.98935825,  0.28366219,\n",
       "         0.96017029,  0.75390225, -0.14550003, -3.38051501, -0.29100619,\n",
       "         0.87144798, -6.79971146]])"
      ]
     },
     "execution_count": 34,
     "metadata": {},
     "output_type": "execute_result"
    }
   ],
   "source": [
    "def get_trignometric_values(angles):\n",
    "    \"\"\"Return an array containing sine, cosine and tangent values of the given angle stacked horizontally\"\"\"\n",
    "    #initialize array\n",
    "    \n",
    "    #define sine function\n",
    "    sin = np.sin(angles)\n",
    "    #define cosine function\n",
    "    cos = np.cos(angles)\n",
    "    #define tangent function\n",
    "    tan = np.tan(angles)\n",
    "    #define function to return array with stacked lists\n",
    "    trigs=[sin,cos,tan]\n",
    "    arr=np.hstack(trigs)\n",
    "    #return the array\n",
    "    return(arr)\n"
   ]
  },
  {
   "cell_type": "code",
   "execution_count": 52,
   "metadata": {
    "collapsed": true
   },
   "outputs": [],
   "source": [
    "def invert_array(array):\n",
    "    \"\"\"Return the pseudo inverse of the given array; read more about pseudo inverse at: \n",
    "    https://en.wikipedia.org/wiki/Moore%E2%80%93Penrose_inverse\"\"\"\n",
    "    #define function to invert array\n",
    "    inv = np.linalg.pinv(array)\n",
    "    #return the array\n",
    "    return(inv)"
   ]
  },
  {
   "cell_type": "code",
   "execution_count": 53,
   "metadata": {
    "collapsed": true
   },
   "outputs": [],
   "source": [
    "def flatten_array(array):\n",
    "    \"\"\"Return the flattened array\"\"\"\n",
    "    #define function to flatten array\n",
    "    \n",
    "    #return the array\n",
    "    return(array.flatten())"
   ]
  },
  {
   "cell_type": "code",
   "execution_count": 4,
   "metadata": {
    "collapsed": true
   },
   "outputs": [],
   "source": [
    "def add_noise(array, mean, std):\n",
    "    \"\"\"Add gaussian noise with given mean and standard deviation; read more about the normal distribution at:\n",
    "    https://en.wikipedia.org/wiki/Normal_distribution\"\"\"\n",
    "    #define function to add noise with the given mean and standard deviation\n",
    "    \n",
    "    #return the array\n",
    "    return(np.random.noise(mean, std, array.size))"
   ]
  },
  {
   "cell_type": "code",
   "execution_count": 4,
   "metadata": {
    "collapsed": true
   },
   "outputs": [],
   "source": [
    "def expand_array(array, axis):\n",
    "    \"\"\"Return an array expanded along the column\"\"\"\n",
    "    #define function to expand array\n",
    "    \n",
    "    #return the array\n",
    "    return(np.expand_dims(array, axis))"
   ]
  },
  {
   "cell_type": "code",
   "execution_count": 1,
   "metadata": {},
   "outputs": [],
   "source": [
    "def sigmoid_fn(array):\n",
    "    \"\"\"Return an array with the sigmoid values\"\"\"\n",
    "    #define sigmoid function \n",
    "    return list(map(lambda x: 1 / (1 + np.exp(-x)), array))\n",
    "    #return the array\n",
    "    \n",
    "    #return(new_arr)\n",
    "\n",
    "#arr=np.array([[1,2,3,4],[5,6,7,8]])\n",
    "#sigmoid_fn(arr)"
   ]
  },
  {
   "cell_type": "code",
   "execution_count": 3,
   "metadata": {},
   "outputs": [],
   "source": [
    "\n",
    "def get_means(array):\n",
    "    means=[]\n",
    "    \"\"\"Return arithmetic mean, geometric mean, harmonic mean and log means in a column array\"\"\"\n",
    "    #define function for arithmetic mean\n",
    "    means.append(np.mean(array))\n",
    "    #define function for geometric mean\n",
    "    means.append(scipy.stats.gmean(array)) \n",
    "    #define function for harmonic mean\n",
    "    means.append(scipy.stats.hmean(array)) \n",
    "    #define function for log means\n",
    "    means.append(np.log(array).mean())\n",
    "    #stack the means in an array\n",
    "    arr=np.hstack(means)\n",
    "    #return the array\n",
    "    return(arr)\n",
    "#arr=np.array([1,2,3,4])\n",
    "#get_means(arr)"
   ]
  },
  {
   "cell_type": "code",
   "execution_count": 39,
   "metadata": {},
   "outputs": [
    {
     "data": {
      "text/plain": [
       "array([3, 4])"
      ]
     },
     "execution_count": 39,
     "metadata": {},
     "output_type": "execute_result"
    }
   ],
   "source": [
    "def return_count(array, threshold):\n",
    "    \"\"\"Return the number of elements above the threshold in an array\"\"\"\n",
    "    #define function to count the number of elements above the threshold\n",
    "    \n",
    "    #return the value\n",
    "    return(array[np.where(array > threshold)])\n",
    "#arr=np.array([1,2,3,4])\n",
    "#return_count(arr,2)"
   ]
  },
  {
   "cell_type": "code",
   "execution_count": 61,
   "metadata": {},
   "outputs": [
    {
     "data": {
      "text/plain": [
       "10"
      ]
     },
     "execution_count": 61,
     "metadata": {},
     "output_type": "execute_result"
    }
   ],
   "source": [
    "def column_sum(array, column_no):\n",
    "    \"\"\"Return the sum of all the elements in a column of the array\"\"\"\n",
    "    #check if column exists in array, else return(np.nan)\n",
    "    try:\n",
    "        return(np.sum(array[column_no]))\n",
    "    except IndexError:\n",
    "        return(np.nan)\n",
    "    #define function to return the sum of elements in the given column\n",
    "    \n",
    "    #return the value\n",
    "    \n",
    "#arr=np.array([[1,2,3,4],[1,2,3,4]])\n",
    "#column_sum(arr,1)\n",
    "\n"
   ]
  },
  {
   "cell_type": "code",
   "execution_count": 19,
   "metadata": {
    "collapsed": true
   },
   "outputs": [],
   "source": [
    "def row_sum(array, row_no):\n",
    "    \"\"\"Return the sum of all the elements in a row of the array\"\"\"\n",
    "    #check if row exists in array, else return(np.nan)\n",
    "    \n",
    "    #define function to return the sum of elements in the given row\n",
    "    \n",
    "    #return the value\n",
    "    try:\n",
    "        return(np.sum(array[row_no]))\n",
    "    except IndexError:\n",
    "        return(np.nan)"
   ]
  },
  {
   "cell_type": "code",
   "execution_count": 65,
   "metadata": {
    "collapsed": true
   },
   "outputs": [],
   "source": [
    "def check_diag(array):\n",
    "    \"\"\"Return True if the matrix is diagonal\"\"\"\n",
    "    #define function to chweck if the matrix is diagonal\n",
    "    if np.array_equal(np.diag(np.diag(array)), array):\n",
    "        return True\n",
    "    return False\n",
    "    #return True/False\n"
   ]
  },
  {
   "cell_type": "code",
   "execution_count": null,
   "metadata": {
    "collapsed": true
   },
   "outputs": [],
   "source": []
  }
 ],
 "metadata": {
  "kernelspec": {
   "display_name": "Python 3",
   "language": "python",
   "name": "python3"
  },
  "language_info": {
   "codemirror_mode": {
    "name": "ipython",
    "version": 3
   },
   "file_extension": ".py",
   "mimetype": "text/x-python",
   "name": "python",
   "nbconvert_exporter": "python",
   "pygments_lexer": "ipython3",
   "version": "3.6.3"
  }
 },
 "nbformat": 4,
 "nbformat_minor": 2
}
